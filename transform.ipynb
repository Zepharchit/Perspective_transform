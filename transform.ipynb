{
 "cells": [
  {
   "cell_type": "code",
   "execution_count": 1,
   "metadata": {},
   "outputs": [],
   "source": [
    "import cv2\n",
    "import numpy as np\n",
    "import os\n",
    "import matplotlib.pyplot as plt\n",
    "import imutils"
   ]
  },
  {
   "cell_type": "code",
   "execution_count": 2,
   "metadata": {},
   "outputs": [],
   "source": [
    "layout = cv2.imread('./gt_layout/9.png')\n",
    "image = cv2.imread('./images/9.png')\n"
   ]
  },
  {
   "cell_type": "code",
   "execution_count": 3,
   "metadata": {},
   "outputs": [],
   "source": [
    "x = np.unique(layout)"
   ]
  },
  {
   "cell_type": "code",
   "execution_count": 4,
   "metadata": {},
   "outputs": [
    {
     "name": "stdout",
     "output_type": "stream",
     "text": [
      "[1 2 4 5]\n"
     ]
    }
   ],
   "source": [
    "print(x)"
   ]
  },
  {
   "cell_type": "code",
   "execution_count": 5,
   "metadata": {},
   "outputs": [],
   "source": [
    "if len(x)==2:\n",
    "    layout = np.where(layout==1,70,layout)\n",
    "    layout = np.where(layout==2,120,layout)\n",
    "elif len(x)==3:\n",
    "    layout = np.where(layout==1,70,layout)\n",
    "    layout = np.where(layout==2,120,layout)\n",
    "    layout = np.where(layout==3,170,layout)\n",
    "elif len(x)==4:\n",
    "    layout = np.where(layout==1,70,layout)\n",
    "    layout = np.where(layout==2,120,layout)\n",
    "    layout = np.where(layout==3,170,layout)\n",
    "    layout = np.where(layout==4,200,layout)\n",
    "else:\n",
    "    layout = np.where(layout==1,70,layout)\n",
    "    layout = np.where(layout==2,120,layout)\n",
    "    layout = np.where(layout==3,170,layout)\n",
    "    layout = np.where(layout==4,200,layout)\n",
    "    layout = np.where(layout==5,220,layout)"
   ]
  },
  {
   "cell_type": "code",
   "execution_count": 6,
   "metadata": {},
   "outputs": [],
   "source": [
    "z = np.unique(layout)"
   ]
  },
  {
   "cell_type": "code",
   "execution_count": 7,
   "metadata": {},
   "outputs": [
    {
     "name": "stdout",
     "output_type": "stream",
     "text": [
      "[  5  70 120 200]\n"
     ]
    }
   ],
   "source": [
    "print(z)"
   ]
  },
  {
   "cell_type": "code",
   "execution_count": 8,
   "metadata": {},
   "outputs": [
    {
     "data": {
      "text/plain": [
       "<matplotlib.image.AxesImage at 0x7f3a26703780>"
      ]
     },
     "execution_count": 8,
     "metadata": {},
     "output_type": "execute_result"
    },
    {
     "data": {
      "image/png": "[encoded data removed]",
      "text/plain": [
       "<Figure size 432x288 with 1 Axes>"
      ]
     },
     "metadata": {
      "needs_background": "light"
     },
     "output_type": "display_data"
    }
   ],
   "source": [
    "plt.imshow(layout)"
   ]
  },
  {
   "cell_type": "code",
   "execution_count": 9,
   "metadata": {},
   "outputs": [],
   "source": [
    "faces = [i for i in z if i!=120 and i!=70]"
   ]
  },
  {
   "cell_type": "code",
   "execution_count": 10,
   "metadata": {},
   "outputs": [
    {
     "data": {
      "text/plain": [
       "[5, 200]"
      ]
     },
     "execution_count": 10,
     "metadata": {},
     "output_type": "execute_result"
    }
   ],
   "source": [
    "faces"
   ]
  },
  {
   "cell_type": "code",
   "execution_count": 11,
   "metadata": {},
   "outputs": [],
   "source": [
    "def get_face(no_of_face,pixel,layout):\n",
    "    face = layout.copy()\n",
    "    non_blk_pixel = np.all(layout==[pixel,pixel,pixel],axis=-1)\n",
    "    blk_pixel = np.any(layout!= [pixel,pixel,pixel],axis=-1)\n",
    "    face[non_blk_pixel]=[255,255,255]\n",
    "    face[blk_pixel]=[0,0,0]\n",
    "    cv2.imwrite('face_'+str(no_of_face)+'.png',face)\n",
    "    return face"
   ]
  },
  {
   "cell_type": "code",
   "execution_count": 12,
   "metadata": {},
   "outputs": [],
   "source": [
    "#def find_contours(face,no_of_face):\n",
    " #   orig = face.copy()\n",
    "  #  gray = cv2.cvtColor(orig,cv2.COLOR_BGR2GRAY)\n",
    "   # _, contours,_ = cv2.findContours(gray,cv2.RETR_EXTERNAL,cv2.CHAIN_APPROX_SIMPLE)\n",
    "    \n",
    "    #for cnt in contours:\n",
    "     #   epsilon = 0.01 * cv2.arcLength(cnt,True)\n",
    "      #  approx_1 = cv2.approxPolyDP(cnt,epsilon,True)\n",
    "       # im = cv2.drawContours(orig,[approx_1],0,(0,255,0),3)\n",
    "    #cv2.imwrite('contours_'+str(no_of_face)+'.png',orig)\n",
    "    #return np.float32([approx_1[i][0] for i in range(len(approx_1))])\n",
    "#cv2.imwrite('contours_layout_1.png',orig_1)\n",
    "#print(approx_1)"
   ]
  },
  {
   "cell_type": "code",
   "execution_count": null,
   "metadata": {},
   "outputs": [],
   "source": [
    "def find_contours(face,no_of_face):\n",
    "    orig = face.copy()\n",
    "    gray = cv2.cvtColor(orig,cv2.COLOR_BGR2GRAY)\n",
    "    _, contours,_ = cv2.findContours(gray,cv2.RETR_EXTERNAL,cv2.CHAIN_APPROX_SIMPLE)\n",
    "    \n",
    "    \n",
    "    \n",
    "    for cnt in contours:\n",
    "        epsilon = 0.01 * cv2.arcLength(cnt,True)\n",
    "        approx_1 = cv2.approxPolyDP(cnt,epsilon,True)\n",
    "        im = cv2.drawContours(orig,[approx_1],0,(0,255,0),3)\n",
    "        \n",
    "    cv2.imwrite('contours_'+str(no_of_face)+'.png',orig)\n",
    "    return np.float32([approx_1[i][0] for i in range(len(approx_1))])\n",
    "#cv2.imwrite('contours_layout_1.png',orig_1)\n",
    "#print(approx_1)"
   ]
  },
  {
   "cell_type": "code",
   "execution_count": 13,
   "metadata": {},
   "outputs": [],
   "source": [
    "def order_points(pts):\n",
    "    # initialzie a list of coordinates that will be ordered\n",
    "    # such that the first entry in the list is the top-left,\n",
    "    # the second entry is the top-right, the third is the\n",
    "    # bottom-right, and the fourth is the bottom-left\n",
    "    rect = np.zeros((4, 2), dtype = \"float32\")\n",
    "    # the top-left point will have the smallest sum, whereas\n",
    "    # the bottom-right point will have the largest sum\n",
    "    s = pts.sum(axis = 1)\n",
    "    #print(s)\n",
    "    rect[0] = pts[np.argmin(s)]\n",
    "    #print(rect[0])\n",
    "    rect[2] = pts[np.argmax(s)]\n",
    "    #print(rect[2])\n",
    "    # now, compute the difference between the points, the\n",
    "    # top-right point will have the smallest difference,\n",
    "    # whereas the bottom-left will have the largest difference\n",
    "    diff = np.diff(pts, axis = 1)\n",
    "    rect[1] = pts[np.argmin(diff)]\n",
    "    #print(rect[1])\n",
    "    rect[3] = pts[np.argmax(diff)]\n",
    "    #print(rect[3])\n",
    "    # return the ordered coordinates\n",
    "    return rect\n",
    "\n",
    "def four_point_transform(image, pts):\n",
    "\t# obtain a consistent order of the points and unpack them\n",
    "\t# individually\n",
    "\trect = order_points(pts)\n",
    "\t(tl, tr, br, bl) = rect\n",
    "\t# compute the width of the new image, which will be the\n",
    "\t# maximum distance between bottom-right and bottom-left\n",
    "\t# x-coordiates or the top-right and top-left x-coordinates\n",
    "\twidthA = np.sqrt(((br[0] - bl[0]) ** 2) + ((br[1] - bl[1]) ** 2))\n",
    "\twidthB = np.sqrt(((tr[0] - tl[0]) ** 2) + ((tr[1] - tl[1]) ** 2))\n",
    "\tmaxWidth = max(int(widthA), int(widthB))\n",
    "\t# compute the height of the new image, which will be the\n",
    "\t# maximum distance between the top-right and bottom-right\n",
    "\t# y-coordinates or the top-left and bottom-left y-coordinates\n",
    "\theightA = np.sqrt(((tr[0] - br[0]) ** 2) + ((tr[1] - br[1]) ** 2))\n",
    "\theightB = np.sqrt(((tl[0] - bl[0]) ** 2) + ((tl[1] - bl[1]) ** 2))\n",
    "\tmaxHeight = max(int(heightA), int(heightB))\n",
    "\t# now that we have the dimensions of the new image, construct\n",
    "\t# the set of destination points to obtain a \"birds eye view\",\n",
    "\t# (i.e. top-down view) of the image, again specifying points\n",
    "\t# in the top-left, top-right, bottom-right, and bottom-left\n",
    "\t# order\n",
    "\tdst = np.array([\n",
    "\t\t[0, 0],\n",
    "\t\t[maxWidth - 1, 0],\n",
    "\t\t[maxWidth - 1, maxHeight - 1],\n",
    "\t\t[0, maxHeight - 1]], dtype = \"float32\")\n",
    "\t# compute the perspective transform matrix and then apply it\n",
    "\tM = cv2.getPerspectiveTransform(rect, dst)\n",
    "\twarped = cv2.warpPerspective(image, M, (maxWidth, maxHeight))\n",
    "\t# return the warped image\n",
    "\treturn warped,M,maxWidth,maxHeight"
   ]
  },
  {
   "cell_type": "code",
   "execution_count": 14,
   "metadata": {},
   "outputs": [],
   "source": [
    "binary_face = []\n",
    "pts = []\n",
    "width = []\n",
    "height = []\n",
    "for i in range(len(faces)):\n",
    "     binary_face.append(get_face(i,faces[i],layout))\n",
    "for j in range(len(faces)):\n",
    "    pts.append(find_contours(binary_face[j],j))"
   ]
  },
  {
   "cell_type": "code",
   "execution_count": 15,
   "metadata": {},
   "outputs": [
    {
     "data": {
      "text/plain": [
       "480"
      ]
     },
     "execution_count": 15,
     "metadata": {},
     "output_type": "execute_result"
    }
   ],
   "source": [
    "image.shape[0]"
   ]
  },
  {
   "cell_type": "code",
   "execution_count": 16,
   "metadata": {},
   "outputs": [],
   "source": [
    "for k in range(len(pts)):\n",
    "    warped,M,w,h = four_point_transform(binary_face[k], pts[k])\n",
    "    cv2.imwrite('warped_'+str(k)+'.png',warped)\n",
    "    swatch = cv2.imread('100134753.png')\n",
    "    crp = swatch[h:h+h,w:w+w]\n",
    "    masked = cv2.bitwise_and(crp,warped)\n",
    "    inv_warp = cv2.warpPerspective(warped,np.linalg.inv(M),(image.shape[1],image.shape[0]))\n",
    "    inv_warp_m = cv2.warpPerspective(masked,np.linalg.inv(M),(image.shape[1],image.shape[0]))\n",
    "    cv2.imwrite('inv_warp'+str(k)+'.png',inv_warp)\n",
    "    cv2.imwrite('inn_warp_m'+str(k)+'.png',inv_warp_m)"
   ]
  },
  {
   "cell_type": "code",
   "execution_count": null,
   "metadata": {},
   "outputs": [],
   "source": []
  }
 ],
 "metadata": {
  "kernelspec": {
   "display_name": "Python 3",
   "language": "python",
   "name": "python3"
  },
  "language_info": {
   "codemirror_mode": {
    "name": "ipython",
    "version": 3
   },
   "file_extension": ".py",
   "mimetype": "text/x-python",
   "name": "python",
   "nbconvert_exporter": "python",
   "pygments_lexer": "ipython3",
   "version": "3.6.8"
  }
 },
 "nbformat": 4,
 "nbformat_minor": 4
}
